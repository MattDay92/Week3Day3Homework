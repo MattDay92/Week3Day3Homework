{
 "cells": [
  {
   "cell_type": "markdown",
   "metadata": {},
   "source": [
    "# Algorithms, Binary Search & Sorting"
   ]
  },
  {
   "cell_type": "code",
   "execution_count": 6,
   "metadata": {},
   "outputs": [
    {
     "name": "stdout",
     "output_type": "stream",
     "text": [
      "5\n"
     ]
    },
    {
     "data": {
      "text/plain": [
       "5"
      ]
     },
     "execution_count": 6,
     "metadata": {},
     "output_type": "execute_result"
    }
   ],
   "source": [
    "### WHITEBOARD\n",
    "\n",
    "# Length of Last word\n",
    "# Create a function that given a string as a parameter of upper/lower case letters and empty space characters (“ “), return the length of the last word. Meaning, the word that appears far most to the right if we loop through the words.\n",
    "# Example Input: “Hello World”\n",
    "# Example Output: 5\n",
    "# Example Input: “We’re learning about a great full-stack web application called Flask”\n",
    "# Example Output: 5\n",
    "\n",
    "def lenWord(string):\n",
    "    new_list = string.split()\n",
    "    print(len(new_list[-1]))\n",
    "    \n",
    "\n",
    "lenWord(\"We’re learning about a great full-stack web application called Flask\")\n",
    "    \n",
    "\n",
    "# Shoha's method - Starting at the end of the string - more optimized\n",
    "def lastWord(string):\n",
    "    count = 0\n",
    "    while True:\n",
    "        if string[len(string)-1-count] == ' ':\n",
    "            return count\n",
    "        count += 1\n",
    "        \n",
    "lastWord(\"hello world\")"
   ]
  },
  {
   "cell_type": "markdown",
   "metadata": {},
   "source": [
    "## Tasks Today:\n",
    " \n",
    "1) <b>In-Place Algorithms</b> <br>\n",
    " &nbsp;&nbsp;&nbsp;&nbsp; a) Syntax <br>\n",
    " &nbsp;&nbsp;&nbsp;&nbsp; a) Out of Place Algorithm <br>\n",
    " &nbsp;&nbsp;&nbsp;&nbsp; b) In-Class Exercise #1 <br>\n",
    "2) <b>Two Pointers</b> <br>\n",
    "3) <b>Merge Sort</b> <br>\n",
    " &nbsp;&nbsp;&nbsp;&nbsp; a) Video on Algorithms <br>\n",
    " &nbsp;&nbsp;&nbsp;&nbsp; b) How it Works <br>\n",
    "4) <b>Exercises</b> <br>\n",
    " &nbsp;&nbsp;&nbsp;&nbsp; a) Exercise #1 - Reverse a List in Place Using an In-Place Algorithm <br>\n",
    " &nbsp;&nbsp;&nbsp;&nbsp; b) Exercise #2 - Find Distinct Words <br>\n",
    " &nbsp;&nbsp;&nbsp;&nbsp; c) Exercise #3 - Write a program to implement a Linear Search Algorithm. <br>"
   ]
  },
  {
   "cell_type": "markdown",
   "metadata": {},
   "source": [
    "## In-Place Algorithms"
   ]
  },
  {
   "cell_type": "markdown",
   "metadata": {},
   "source": [
    "#### Syntax"
   ]
  },
  {
   "cell_type": "code",
   "execution_count": 10,
   "metadata": {},
   "outputs": [
    {
     "name": "stdout",
     "output_type": "stream",
     "text": [
      "before swap [1, 5, 10, 15, 20, 25]\n",
      "after swap [1, 5, 10, 25, 20, 15]\n",
      "output None\n"
     ]
    }
   ],
   "source": [
    "# sorted() ##in place algorithm - changes original \n",
    "# .sort() ##out of place algorithm\n",
    "\n",
    "def swap(nums, i1, i2):\n",
    "    nums[i1], nums[i2] = nums[i2], nums[i1]\n",
    "    \n",
    "# MORE TRADITIONAL WAY ACROSS LANGUAGES\n",
    "#     temp = nums[i1]\n",
    "#     nums[i1] = nums[i2]\n",
    "#     nums[i2] = temp\n",
    "    \n",
    "list1 = [1, 5, 10, 15, 20, 25]\n",
    "print(\"before swap\", list1)\n",
    "output = swap(list1, 3, 5)\n",
    "print(\"after swap\", list1)\n",
    "print(\"output\", output)\n",
    "# Doesn't return anything new because we're just changing the original"
   ]
  },
  {
   "cell_type": "markdown",
   "metadata": {},
   "source": [
    "#### Out of Place Algorithm"
   ]
  },
  {
   "cell_type": "code",
   "execution_count": 12,
   "metadata": {},
   "outputs": [
    {
     "name": "stdout",
     "output_type": "stream",
     "text": [
      "before swap [1, 5, 10, 15, 20, 25]\n",
      "after swap [1, 5, 10, 15, 20, 25]\n",
      "output [1, 5, 10, 25, 20, 15]\n"
     ]
    }
   ],
   "source": [
    "\n",
    "def swap(nums, i1, i2):\n",
    "    #doing a SLICE makes an actual copy of nums instead of changing the original\n",
    "    copy = nums[:]\n",
    "    copy[i1], copy[i2] = copy[i2], copy[i1]\n",
    "    return copy\n",
    "\n",
    "list1 = [1, 5, 10, 15, 20, 25]\n",
    "print(\"before swap\", list1)\n",
    "output = swap(list1, 3, 5)\n",
    "print(\"after swap\", list1)\n",
    "print(\"output\", output)\n",
    "\n",
    "# The ORIGINAL (Nums) did not change - only the output did"
   ]
  },
  {
   "cell_type": "markdown",
   "metadata": {},
   "source": [
    "#### In-Class Exercise #1 <br>\n",
    "<p>Write a function that takes in four arguments (list, index1, index2, index3), and swaps those three positions in the list passed in.</p>"
   ]
  },
  {
   "cell_type": "code",
   "execution_count": 22,
   "metadata": {},
   "outputs": [
    {
     "name": "stdout",
     "output_type": "stream",
     "text": [
      "[10, 4, 3, 8, 4, 2, 6]\n",
      "[10, 4, 3, 8, 6, 4, 2]\n"
     ]
    }
   ],
   "source": [
    "l_1 = [10, 4, 3, 8, 4, 2, 6]\n",
    "\n",
    "def changeThree(nums, i1, i2, i3):\n",
    "    copy = nums[:]\n",
    "    copy[i1], copy[i2], copy[i3] = copy[i3], copy[i1], copy[i2]\n",
    "    return copy\n",
    "\n",
    "output = changeThree(l_l, 4, 5, 6)\n",
    "print(l_1)\n",
    "print(output)"
   ]
  },
  {
   "cell_type": "markdown",
   "metadata": {},
   "source": [
    "## Two Pointers"
   ]
  },
  {
   "cell_type": "markdown",
   "metadata": {},
   "source": [
    "#### Syntax"
   ]
  },
  {
   "cell_type": "code",
   "execution_count": 26,
   "metadata": {},
   "outputs": [
    {
     "name": "stdout",
     "output_type": "stream",
     "text": [
      "[10, 9, 8, 7, 6, 5, 4, 3, 2, 1]\n"
     ]
    }
   ],
   "source": [
    "def twoPointers(nums):\n",
    "    left = 0\n",
    "    right = len(nums) - 1 #Could use -1 for end index but easier to work with positive nums\n",
    "    while left < right:\n",
    "        nums[left], nums[right] = nums[right], nums[left]\n",
    "        left +=1\n",
    "        right -=1\n",
    "    return None  #Changing original list\n",
    "\n",
    "list2 = [1, 2, 3, 4, 5, 6, 7, 8, 9, 10]\n",
    "\n",
    "twoPointers(list2)\n",
    "print(list2)\n",
    "\n"
   ]
  },
  {
   "cell_type": "markdown",
   "metadata": {},
   "source": [
    "#### Video of Algorithms <br>\n",
    "<p>Watch the video about algorithms.</p>\n",
    "\n",
    "https://www.youtube.com/watch?v=Q9HjeFD62Uk\n",
    "\n",
    "https://www.youtube.com/watch?v=kPRA0W1kECg\n",
    "\n",
    "https://www.youtube.com/watch?v=ZZuD6iUe3Pc"
   ]
  },
  {
   "cell_type": "markdown",
   "metadata": {},
   "source": [
    "# Sorting Algorithms"
   ]
  },
  {
   "cell_type": "markdown",
   "metadata": {},
   "source": [
    "#### Bubble Sort\n",
    "\n",
    "Worst Case: O(n^2) Time - O(1) Space"
   ]
  },
  {
   "cell_type": "code",
   "execution_count": 30,
   "metadata": {},
   "outputs": [
    {
     "name": "stdout",
     "output_type": "stream",
     "text": [
      "[11, 22, 33, 44, 66, 77, 88, 99]\n"
     ]
    }
   ],
   "source": [
    "# none of these are as good as sorted() - but good to know\n",
    "\n",
    "# https://www.hackerearth.com/practice/algorithms/sorting/bubble-sort/visualize/\n",
    "\n",
    "# SWAP FUNCTION\n",
    "def swap(nums, i1, i2):\n",
    "    nums[i1], nums[i2] = nums[i2], nums[i1]\n",
    "\n",
    "def bubbleSort(nums):\n",
    "    for j in range(len(nums)):  #makes it do this sorting process len(nums) - 8 -  times\n",
    "        for i in range(len(nums) - 1):  #need the -1 because we're using 'i+1' - it'll go out of range w/out it\n",
    "            if nums[i] > nums[i+1]:\n",
    "                swap(nums, i, i+1)\n",
    "\n",
    "nums=[99, 66, 22, 33, 11, 77, 88, 44]\n",
    "bubbleSort(nums)\n",
    "print(nums)"
   ]
  },
  {
   "cell_type": "code",
   "execution_count": 41,
   "metadata": {},
   "outputs": [
    {
     "name": "stdout",
     "output_type": "stream",
     "text": [
      "5\n",
      "[11, 22, 33, 44, 66, 77, 88, 99]\n",
      "1\n",
      "[1, 2, 3, 4, 5, 6, 7, 8, 9, 10]\n",
      "3\n",
      "['aubrey', 'brandt', 'shoha']\n"
     ]
    }
   ],
   "source": [
    "# SLIGHTLY MORE OPTIMIZED VERSION \n",
    "\n",
    "def swap(nums, i1, i2):\n",
    "    nums[i1], nums[i2] = nums[i2], nums[i1]\n",
    "\n",
    "def bubbleSort(nums):\n",
    "    isSorted = False  #for if the list is already sorted\n",
    "    count = 0     #The biggest num is pushed to the end so I don't have to check it each time\n",
    "                    #Removes one step each time through the loop\n",
    "    while not isSorted:  \n",
    "        isSorted = True\n",
    "        for i in range(len(nums) - 1 - count):  \n",
    "            if nums[i] > nums[i+1]:\n",
    "                swap(nums, i, i+1)\n",
    "                isSorted = False\n",
    "        count +=1\n",
    "    print(count)\n",
    "        \n",
    "\n",
    "nums=[99, 66, 22, 33, 11, 77, 88, 44]\n",
    "nums2=[1, 2, 3, 4, 5, 6, 7, 8, 9, 10]\n",
    "names = ['shoha', 'brandt', 'aubrey']\n",
    "bubbleSort(nums)\n",
    "print(nums)\n",
    "\n",
    "bubbleSort(nums2)\n",
    "print(nums2)\n",
    "\n",
    "bubbleSort(names)\n",
    "print(names)"
   ]
  },
  {
   "cell_type": "markdown",
   "metadata": {},
   "source": [
    "##### Insertion Sort\n",
    "\n",
    "Worst Case: O(n^2) time - O(1)space"
   ]
  },
  {
   "cell_type": "code",
   "execution_count": 42,
   "metadata": {},
   "outputs": [
    {
     "name": "stdout",
     "output_type": "stream",
     "text": [
      "[11, 22, 33, 44, 66, 77, 88, 99]\n",
      "[1, 2, 3, 4, 5, 6, 7, 8, 9, 10]\n",
      "['aubrey', 'brandt', 'shoha']\n"
     ]
    }
   ],
   "source": [
    "# Watch Zoom video for explanations and hackerearth visualization\n",
    "\n",
    "def insertionSort(nums):\n",
    "    for i in range(1, len(nums)):\n",
    "        j = i\n",
    "        while j > 0 and nums[j] < nums[j-1]:\n",
    "            swap(nums, j, j-1)\n",
    "            j -= 1\n",
    "    \n",
    "nums=[99, 66, 22, 33, 11, 77, 88, 44]\n",
    "nums2=[1, 2, 3, 4, 5, 6, 7, 8, 9, 10]\n",
    "names = ['shoha', 'brandt', 'aubrey']    \n",
    "\n",
    "insertionSort(nums)\n",
    "insertionSort(nums2)\n",
    "insertionSort(names)\n",
    "print(nums)\n",
    "print(nums2)\n",
    "print(names)\n",
    "\n",
    "        "
   ]
  },
  {
   "cell_type": "markdown",
   "metadata": {},
   "source": [
    "## Merge Sort"
   ]
  },
  {
   "cell_type": "markdown",
   "metadata": {},
   "source": [
    "#### How it Works"
   ]
  },
  {
   "cell_type": "code",
   "execution_count": 48,
   "metadata": {},
   "outputs": [
    {
     "name": "stdout",
     "output_type": "stream",
     "text": [
      "splitting.. [3, 2, 56, 3, 33, 22, 53, 22, 32, 56, 99, 88, 77, 32, 21]\n",
      "splitting.. [3, 2, 56, 3, 33, 22, 53]\n",
      "splitting.. [3, 2, 56]\n",
      "splitting.. [2, 56]\n",
      "merging.. [2, 56]\n",
      "merging.. [2, 3, 56]\n",
      "splitting.. [3, 33, 22, 53]\n",
      "splitting.. [3, 33]\n",
      "merging.. [3, 33]\n",
      "splitting.. [22, 53]\n",
      "merging.. [22, 53]\n",
      "merging.. [3, 22, 33, 53]\n",
      "merging.. [2, 3, 3, 22, 33, 53, 56]\n",
      "splitting.. [22, 32, 56, 99, 88, 77, 32, 21]\n",
      "splitting.. [22, 32, 56, 99]\n",
      "splitting.. [22, 32]\n",
      "merging.. [22, 32]\n",
      "splitting.. [56, 99]\n",
      "merging.. [56, 99]\n",
      "merging.. [22, 32, 56, 99]\n",
      "splitting.. [88, 77, 32, 21]\n",
      "splitting.. [88, 77]\n",
      "merging.. [77, 88]\n",
      "splitting.. [32, 21]\n",
      "merging.. [21, 32]\n",
      "merging.. [21, 32, 77, 88]\n",
      "merging.. [21, 22, 32, 32, 56, 77, 88, 99]\n",
      "merging.. [2, 3, 3, 21, 22, 22, 32, 32, 33, 53, 56, 56, 77, 88, 99]\n",
      "[2, 3, 3, 21, 22, 22, 32, 32, 33, 53, 56, 56, 77, 88, 99]\n"
     ]
    }
   ],
   "source": [
    "# step1: split in half(until you can't anymore)\n",
    "# step 2: from left to right, start merging\n",
    "# step 3: while merging, place each item into the correct position within the merged group\n",
    "# step 4: repeat\n",
    "\n",
    "def mergeSort(nums):\n",
    "    if len(nums)>1:\n",
    "        print('splitting..', nums)\n",
    "        mid = len(nums)//2\n",
    "        lefthalf = nums[:mid]\n",
    "        righthalf = nums[mid:]\n",
    "        \n",
    "        #recursively call mergeSort to perform splits if needed\n",
    "        mergeSort(lefthalf)\n",
    "        mergeSort(righthalf)\n",
    "        \n",
    "        #create index pointers to keep track of position\n",
    "        i = 0\n",
    "        j = 0\n",
    "        k = 0\n",
    "        \n",
    "        #step 2:\n",
    "        #compare left and right halves\n",
    "        while i < len(lefthalf) and j < len(righthalf):\n",
    "            if lefthalf[i] < righthalf[j]:\n",
    "                nums[k] = lefthalf[i]\n",
    "                i+=1\n",
    "                k+=1\n",
    "            else:\n",
    "                nums[k] = righthalf[j]\n",
    "                j+=1\n",
    "                k+=1\n",
    "        \n",
    "        #step 3: when one side is done, fill in the rest into its correct position\n",
    "        while i < len(lefthalf):\n",
    "            nums[k] = lefthalf[i]\n",
    "            i+=1\n",
    "            k+=1\n",
    "        while j < len(righthalf):\n",
    "            nums[k] = righthalf[j]\n",
    "            j+=1\n",
    "            k+=1\n",
    "        print('merging..', nums)\n",
    "\n",
    "            \n",
    "    \n",
    "nums = [3, 2, 56, 3, 33, 22, 53, 22, 32, 56, 99, 88, 77, 32, 21]\n",
    "mergeSort(nums)\n",
    "print(nums)"
   ]
  },
  {
   "cell_type": "markdown",
   "metadata": {},
   "source": [
    "# Binary Search\n",
    "\n",
    "The Binary Search algorithm works by finding the number in the middle of a given array and comparing it to the target. <strong>Given that the array is sorted</strong>\n",
    "\n",
    "* The worst case run time for this algorithm is `O(log(n))`"
   ]
  },
  {
   "cell_type": "code",
   "execution_count": 52,
   "metadata": {},
   "outputs": [
    {
     "data": {
      "text/plain": [
       "'What you are looking for is not in this collection.'"
      ]
     },
     "execution_count": 52,
     "metadata": {},
     "output_type": "execute_result"
    }
   ],
   "source": [
    "nums = [1, 22, 44, 55, 66, 77, 88, 89, 90, 91, 92, 93, 100, 101, 103, 104, 200]\n",
    "\n",
    "def binarySearch(nums, target):\n",
    "    left = 0\n",
    "    right = len(nums) - 1\n",
    "    while left<=right:\n",
    "        mid = (left + right)//2\n",
    "        potentialMatch = nums[mid]\n",
    "        if target == potentialMatch:\n",
    "            return f'I found your match at index {mid}.'\n",
    "        elif target<potentialMatch:\n",
    "            right = mid - 1\n",
    "        else:\n",
    "            left = mid + 1\n",
    "    return f'What you are looking for is not in this collection.'\n",
    "\n",
    "binarySearch(nums, 95)"
   ]
  },
  {
   "cell_type": "markdown",
   "metadata": {},
   "source": [
    "# Exercises"
   ]
  },
  {
   "cell_type": "markdown",
   "metadata": {},
   "source": [
    "### Exercise #1 <br>\n",
    "<p>Reverse the list below in-place using an in-place algorithm.<br>For extra credit: Reverse the strings at the same time.</p>"
   ]
  },
  {
   "cell_type": "code",
   "execution_count": 5,
   "metadata": {},
   "outputs": [
    {
     "name": "stdout",
     "output_type": "stream",
     "text": [
      "['.', 'ecnetnes', 'a', 'si', 'siht']\n"
     ]
    }
   ],
   "source": [
    "words = ['this' , 'is', 'a', 'sentence', '.']\n",
    "\n",
    "def reverseList(x):\n",
    "    left = 0\n",
    "    right = len(x)-1\n",
    "    while left <= right:\n",
    "        x[left], x[right] = x[right][::-1], x[left][::-1]\n",
    "        left +=1\n",
    "        right -=1\n",
    "        \n",
    "\n",
    "reverseList(words)\n",
    "print(words)\n"
   ]
  },
  {
   "cell_type": "markdown",
   "metadata": {},
   "source": [
    "### Exercise #2 <br>\n",
    "<p>Create a function that counts how many distinct words are in the string below, then outputs a dictionary with the words as the key and the value as the amount of times that word appears in the string.<br>Should output:<br>{'a': 5,<br>\n",
    " 'abstract': 1,<br>\n",
    " 'an': 3,<br>\n",
    " 'array': 2, ... etc...</p>"
   ]
  },
  {
   "cell_type": "code",
   "execution_count": 69,
   "metadata": {},
   "outputs": [
    {
     "data": {
      "text/plain": [
       "{'in': 1,\n",
       " 'computing,': 1,\n",
       " 'a': 5,\n",
       " 'hash': 4,\n",
       " 'table': 2,\n",
       " 'map': 2,\n",
       " 'is': 1,\n",
       " 'data': 2,\n",
       " 'structure': 2,\n",
       " 'which': 2,\n",
       " 'implements': 1,\n",
       " 'an': 3,\n",
       " 'associative': 1,\n",
       " 'array': 2,\n",
       " 'abstract': 1,\n",
       " 'type,': 1,\n",
       " 'that': 1,\n",
       " 'can': 2,\n",
       " 'keys': 1,\n",
       " 'to': 2,\n",
       " 'values.': 1,\n",
       " 'uses': 1,\n",
       " 'function': 1,\n",
       " 'compute': 1,\n",
       " 'index': 1,\n",
       " 'into': 1,\n",
       " 'of': 1,\n",
       " 'buckets': 1,\n",
       " 'or': 1,\n",
       " 'slots': 1,\n",
       " 'from': 1,\n",
       " 'the': 1,\n",
       " 'desired': 1,\n",
       " 'value': 1,\n",
       " 'be': 1,\n",
       " 'found': 1}"
      ]
     },
     "execution_count": 69,
     "metadata": {},
     "output_type": "execute_result"
    }
   ],
   "source": [
    "a_text = 'In computing, a hash table hash map is a data structure which implements an associative array abstract data type, a structure that can map keys to values. A hash table uses a hash function to compute an index into an array of buckets or slots from which the desired value can be found'\n",
    "\n",
    "def distinctWords(string):\n",
    "    string = string.lower().split()\n",
    "    d = {}\n",
    "    for x in string:\n",
    "        if x not in d:\n",
    "            d[x] = 1\n",
    "        else:\n",
    "            d[x] += 1\n",
    "\n",
    "    return d \n",
    "\n",
    "distinctWords(a_text)"
   ]
  },
  {
   "cell_type": "markdown",
   "metadata": {},
   "source": [
    "## Exercise #3\n",
    "\n",
    "Write a program to implement a Linear Search Algorithm. Also in a comment, write the Time Complexity of the following algorithm.\n",
    "\n",
    "#### Hint: Linear Searching will require searching a list for a given number. "
   ]
  },
  {
   "cell_type": "code",
   "execution_count": 71,
   "metadata": {},
   "outputs": [
    {
     "data": {
      "text/plain": [
       "6"
      ]
     },
     "execution_count": 71,
     "metadata": {},
     "output_type": "execute_result"
    }
   ],
   "source": [
    "nums = [1, 2, 5, 4, 7, 6, 9, 3, 12, 15]\n",
    "\n",
    "def linearSearch(nums, target):\n",
    "    i = 0\n",
    "    while i<len(nums) - 1:\n",
    "        if nums[i] == target:\n",
    "            return i\n",
    "        else:\n",
    "            i += 1\n",
    "    return 'Your target is not in this list.'\n",
    "\n",
    "linearSearch(nums, 9)    \n",
    "\n",
    "# Time Complexity:  O(N) - linear because it only has to run through the list once"
   ]
  }
 ],
 "metadata": {
  "kernelspec": {
   "display_name": "Python 3 (ipykernel)",
   "language": "python",
   "name": "python3"
  },
  "language_info": {
   "codemirror_mode": {
    "name": "ipython",
    "version": 3
   },
   "file_extension": ".py",
   "mimetype": "text/x-python",
   "name": "python",
   "nbconvert_exporter": "python",
   "pygments_lexer": "ipython3",
   "version": "3.9.13"
  }
 },
 "nbformat": 4,
 "nbformat_minor": 2
}
